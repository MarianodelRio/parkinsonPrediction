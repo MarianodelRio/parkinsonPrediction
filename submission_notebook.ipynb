{
 "cells": [
  {
   "attachments": {},
   "cell_type": "markdown",
   "metadata": {},
   "source": [
    "# Notebook for submission"
   ]
  },
  {
   "cell_type": "code",
   "execution_count": 1,
   "metadata": {},
   "outputs": [],
   "source": [
    "%load_ext autoreload\n",
    "%autoreload 2"
   ]
  },
  {
   "cell_type": "code",
   "execution_count": 2,
   "metadata": {},
   "outputs": [
    {
     "name": "stderr",
     "output_type": "stream",
     "text": [
      "/usr/lib/python3/dist-packages/pkg_resources/__init__.py:116: PkgResourcesDeprecationWarning: 1.16.0-unknown is an invalid version and will not be supported in a future release\n",
      "  warnings.warn(\n",
      "/usr/lib/python3/dist-packages/pkg_resources/__init__.py:116: PkgResourcesDeprecationWarning: 1.1build1 is an invalid version and will not be supported in a future release\n",
      "  warnings.warn(\n",
      "/usr/lib/python3/dist-packages/pkg_resources/__init__.py:116: PkgResourcesDeprecationWarning: 0.1.43ubuntu1 is an invalid version and will not be supported in a future release\n",
      "  warnings.warn(\n",
      "/usr/lib/python3/dist-packages/pkg_resources/__init__.py:116: PkgResourcesDeprecationWarning: 1.12.1-git20200711.33e2d80-dfsg1-0.6 is an invalid version and will not be supported in a future release\n",
      "  warnings.warn(\n",
      "/home/mariano/.local/lib/python3.10/site-packages/torchvision/io/image.py:13: UserWarning: Failed to load image Python extension: 'libc10_cuda.so: cannot open shared object file: No such file or directory'If you don't plan on using image functionality from `torchvision.io`, you can ignore this warning. Otherwise, there might be something wrong with your environment. Did you have `libjpeg` or `libpng` installed before building `torchvision` from source?\n",
      "  warn(\n",
      "/usr/lib/python3/dist-packages/pkg_resources/__init__.py:116: PkgResourcesDeprecationWarning: 1.16.0-unknown is an invalid version and will not be supported in a future release\n",
      "  warnings.warn(\n",
      "/usr/lib/python3/dist-packages/pkg_resources/__init__.py:116: PkgResourcesDeprecationWarning: 1.1build1 is an invalid version and will not be supported in a future release\n",
      "  warnings.warn(\n",
      "/usr/lib/python3/dist-packages/pkg_resources/__init__.py:116: PkgResourcesDeprecationWarning: 0.1.43ubuntu1 is an invalid version and will not be supported in a future release\n",
      "  warnings.warn(\n",
      "/usr/lib/python3/dist-packages/pkg_resources/__init__.py:116: PkgResourcesDeprecationWarning: 1.12.1-git20200711.33e2d80-dfsg1-0.6 is an invalid version and will not be supported in a future release\n",
      "  warnings.warn(\n"
     ]
    }
   ],
   "source": [
    "import pandas as pd\n",
    "import numpy as np\n",
    "#import amp_pd_peptide\n",
    "from src.model import LSTMmodel\n",
    "from src.utils import get_patient_visits"
   ]
  },
  {
   "cell_type": "code",
   "execution_count": 3,
   "metadata": {},
   "outputs": [
    {
     "data": {
      "text/plain": [
       "LSTMmodel(\n",
       "  (lstm): LSTM(8, 128, batch_first=True)\n",
       "  (linear): Linear(in_features=128, out_features=16, bias=True)\n",
       ")"
      ]
     },
     "execution_count": 3,
     "metadata": {},
     "output_type": "execute_result"
    }
   ],
   "source": [
    "checkpoint_path = 'model.ckpt'\n",
    "model = LSTMmodel()\n",
    "#model.load_from_checkpoint(checkpoint_path)\n",
    "model.eval()"
   ]
  },
  {
   "cell_type": "code",
   "execution_count": null,
   "metadata": {},
   "outputs": [],
   "source": [
    "env = amp_pd_peptide.make_env()   # initialize the environme\n",
    "train = pd.read_csv('parkinsonPrediction/data/train_clinical_data.csv')\n",
    "sup = pd.read_csv('parkinsonPrediction/data/supplemental_clinical_data.csv')\n",
    "\n",
    "# Empty dataframe \n",
    "sample_prediction_df = pd.DataFrame(columns=['prediction_id', 'rating', 'group_key'])\n",
    "iter_test = env.iter_test()    # an iterator which loops over the test files\n",
    "\n",
    "for (test, test_peptides, test_proteins, sample_submission) in iter_test:\n",
    "    for index, row in test.iterrows():\n",
    "        # Get patient id\n",
    "        patient_id = row['patient_id']\n",
    "        # Get group key\n",
    "        group_key = row['group_key']\n",
    "        # Get updrs test \n",
    "        updrs_test = row['updrs_test']\n",
    "        # Get last visits\n",
    "        last_visits = get_patient_visits(patient_id, train, sup)\n",
    "        # Get prediction\n",
    "        pred = model.predict(last_visits)\n",
    "        # Build prediction id (patient_id + group_key + updrs_test + months) 3342_0_updrs_1_plus_0_months\n",
    "        pred_id0 = str(patient_id) + '_' + str(group_key) + '_' + str(updrs_test) + '_plus_0_months'\n",
    "        pred_id1 = str(patient_id) + '_' + str(group_key) + '_' + str(updrs_test) + '_plus_6_months'\n",
    "        pred_id2 = str(patient_id) + '_' + str(group_key) + '_' + str(updrs_test) + '_plus_12_months' \n",
    "        pred_id3 = str(patient_id) + '_' + str(group_key) + '_' + str(updrs_test) + '_plus_24_months' \n",
    "\n",
    "        # Append prediction to dataframe (prediction_id,rating,group_key)\n",
    "        sample_prediction_df = sample_prediction_df.append({'prediction_id': pred_id0, 'rating': pred[0], 'group_key': group_key}, ignore_index=True)\n",
    "        sample_prediction_df = sample_prediction_df.append({'prediction_id': pred_id1, 'rating': pred[1], 'group_key': group_key}, ignore_index=True)\n",
    "        sample_prediction_df = sample_prediction_df.append({'prediction_id': pred_id2, 'rating': pred[2], 'group_key': group_key}, ignore_index=True)\n",
    "        sample_prediction_df = sample_prediction_df.append({'prediction_id': pred_id3, 'rating': pred[3], 'group_key': group_key}, ignore_index=True)\n",
    "\n",
    "    env.predict(sample_prediction_df)\n",
    "    "
   ]
  },
  {
   "cell_type": "code",
   "execution_count": 20,
   "metadata": {},
   "outputs": [
    {
     "data": {
      "text/plain": [
       "(torch.Size([1, 10, 8]), torch.Size([1, 4, 4]))"
      ]
     },
     "execution_count": 20,
     "metadata": {},
     "output_type": "execute_result"
    }
   ],
   "source": [
    "import torch\n",
    "train = 'data/train_clinical_data.csv'\n",
    "sup = 'data/supplemental_clinical_data.csv'\n",
    "test = pd.read_csv('data/example_test_files/test.csv')\n",
    "patient_id = 55\n",
    "last_visits = get_patient_visits(patient_id, train, sup)\n",
    "\n",
    "last_visits = torch.from_numpy(last_visits).float()\n",
    "last_visits = last_visits.unsqueeze(0)\n",
    "pred = model.predict(last_visits)\n",
    "last_visits.shape, pred.shape"
   ]
  }
 ],
 "metadata": {
  "kernelspec": {
   "display_name": "Python 3",
   "language": "python",
   "name": "python3"
  },
  "language_info": {
   "codemirror_mode": {
    "name": "ipython",
    "version": 3
   },
   "file_extension": ".py",
   "mimetype": "text/x-python",
   "name": "python",
   "nbconvert_exporter": "python",
   "pygments_lexer": "ipython3",
   "version": "3.10.6"
  },
  "orig_nbformat": 4
 },
 "nbformat": 4,
 "nbformat_minor": 2
}
