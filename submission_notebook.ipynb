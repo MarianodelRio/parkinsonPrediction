{
 "cells": [
  {
   "attachments": {},
   "cell_type": "markdown",
   "metadata": {},
   "source": [
    "# Notebook for submission"
   ]
  },
  {
   "cell_type": "code",
   "execution_count": null,
   "metadata": {},
   "outputs": [],
   "source": [
    "import pandas as pd\n",
    "import numpy as np\n",
    "import amp_pd_peptide\n",
    "from src.model import LSTMmodel\n",
    "from src.utils import get_patient_visits"
   ]
  },
  {
   "cell_type": "code",
   "execution_count": null,
   "metadata": {},
   "outputs": [],
   "source": [
    "checkpoint_path = 'model.ckpt'\n",
    "model = LSTMmodel()\n",
    "#model.load_from_checkpoint(checkpoint_path)\n",
    "model.eval()"
   ]
  },
  {
   "cell_type": "code",
   "execution_count": null,
   "metadata": {},
   "outputs": [],
   "source": [
    "env = amp_pd_peptide.make_env()   # initialize the environme\n",
    "train = pd.read_csv('parkinsonPrediction/data/train_clinical_data.csv')\n",
    "sup = pd.read_csv('parkinsonPrediction/data/example_test_files/test.csv')\n",
    "\n",
    "iter_test = env.iter_test()    # an iterator which loops over the test files\n",
    "for (test, test_peptides, test_proteins, sample_submission) in iter_test:\n",
    "    #sample_prediction_df['rating'] = np.arange(len(sample_prediction))  # make your predictions here\n",
    "    patient_id = test['patient_id'].unique()[0]\n",
    "    patient_id = int(patient_id)\n",
    "    last_visits = get_patient_visits(patient_id, train, sup)\n",
    "    last_visits['upd23b_clinical_state_on_medication'] = last_visits['upd23b_clinical_state_on_medication'] == 'OFF'\n",
    "    last_visits = last_visits.to_numpy()\n",
    "    last_visits = last_visits.astype(np.float32)\n",
    "    pred = model(last_visits)"
   ]
  }
 ],
 "metadata": {
  "kernelspec": {
   "display_name": "Python 3",
   "language": "python",
   "name": "python3"
  },
  "language_info": {
   "name": "python",
   "version": "3.10.6"
  },
  "orig_nbformat": 4
 },
 "nbformat": 4,
 "nbformat_minor": 2
}
