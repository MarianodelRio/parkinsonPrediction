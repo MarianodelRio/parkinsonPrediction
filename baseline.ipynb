{
 "cells": [
  {
   "attachments": {},
   "cell_type": "markdown",
   "metadata": {},
   "source": [
    "# BASELINE MODEL"
   ]
  },
  {
   "cell_type": "code",
   "execution_count": 1,
   "metadata": {},
   "outputs": [],
   "source": [
    "%load_ext autoreload\n",
    "%autoreload 2"
   ]
  },
  {
   "cell_type": "code",
   "execution_count": 2,
   "metadata": {},
   "outputs": [
    {
     "name": "stderr",
     "output_type": "stream",
     "text": [
      "/usr/lib/python3/dist-packages/pkg_resources/__init__.py:116: PkgResourcesDeprecationWarning: 1.16.0-unknown is an invalid version and will not be supported in a future release\n",
      "  warnings.warn(\n",
      "/usr/lib/python3/dist-packages/pkg_resources/__init__.py:116: PkgResourcesDeprecationWarning: 1.1build1 is an invalid version and will not be supported in a future release\n",
      "  warnings.warn(\n",
      "/usr/lib/python3/dist-packages/pkg_resources/__init__.py:116: PkgResourcesDeprecationWarning: 0.1.43ubuntu1 is an invalid version and will not be supported in a future release\n",
      "  warnings.warn(\n",
      "/usr/lib/python3/dist-packages/pkg_resources/__init__.py:116: PkgResourcesDeprecationWarning: 1.12.1-git20200711.33e2d80-dfsg1-0.6 is an invalid version and will not be supported in a future release\n",
      "  warnings.warn(\n",
      "/home/mariano/.local/lib/python3.10/site-packages/torchvision/io/image.py:13: UserWarning: Failed to load image Python extension: 'libc10_cuda.so: cannot open shared object file: No such file or directory'If you don't plan on using image functionality from `torchvision.io`, you can ignore this warning. Otherwise, there might be something wrong with your environment. Did you have `libjpeg` or `libpng` installed before building `torchvision` from source?\n",
      "  warn(\n",
      "/usr/lib/python3/dist-packages/pkg_resources/__init__.py:116: PkgResourcesDeprecationWarning: 1.16.0-unknown is an invalid version and will not be supported in a future release\n",
      "  warnings.warn(\n",
      "/usr/lib/python3/dist-packages/pkg_resources/__init__.py:116: PkgResourcesDeprecationWarning: 1.1build1 is an invalid version and will not be supported in a future release\n",
      "  warnings.warn(\n",
      "/usr/lib/python3/dist-packages/pkg_resources/__init__.py:116: PkgResourcesDeprecationWarning: 0.1.43ubuntu1 is an invalid version and will not be supported in a future release\n",
      "  warnings.warn(\n",
      "/usr/lib/python3/dist-packages/pkg_resources/__init__.py:116: PkgResourcesDeprecationWarning: 1.12.1-git20200711.33e2d80-dfsg1-0.6 is an invalid version and will not be supported in a future release\n",
      "  warnings.warn(\n"
     ]
    }
   ],
   "source": [
    "from src.dataset import Dataset\n",
    "from src.model import LSTMmodel\n",
    "from src.utils import *\n",
    "from src.datamodule import DataModule\n",
    "import pandas as pd\n",
    "import numpy as np\n",
    "import pytorch_lightning as pl\n",
    "from pytorch_lightning.callbacks.early_stopping import EarlyStopping"
   ]
  },
  {
   "cell_type": "code",
   "execution_count": 56,
   "metadata": {},
   "outputs": [
    {
     "name": "stdout",
     "output_type": "stream",
     "text": [
      "(3, 2)\n",
      "[array([[5.500e+02, 5.500e+01, 0.000e+00, 1.000e+01, 6.000e+00, 1.500e+01,\n",
      "         1.900e+00, 0.000e+00],\n",
      "        [5.530e+02, 5.500e+01, 3.000e+00, 1.000e+01, 7.000e+00, 2.500e+01,\n",
      "         1.900e+00, 0.000e+00],\n",
      "        [5.560e+02, 5.500e+01, 6.000e+00, 8.000e+00, 1.000e+01, 3.400e+01,\n",
      "         1.900e+00, 0.000e+00],\n",
      "        [5.590e+02, 5.500e+01, 9.000e+00, 8.000e+00, 9.000e+00, 3.000e+01,\n",
      "         0.000e+00, 0.000e+00],\n",
      "        [5.512e+03, 5.500e+01, 1.200e+01, 1.000e+01, 1.000e+01, 4.100e+01,\n",
      "         0.000e+00, 0.000e+00],\n",
      "        [5.518e+03, 5.500e+01, 1.800e+01, 7.000e+00, 1.300e+01, 3.800e+01,\n",
      "         0.000e+00, 0.000e+00]], dtype=float32)\n",
      " array([[5.530e+02, 5.500e+01, 3.000e+00, 1.000e+01, 7.000e+00, 2.500e+01,\n",
      "         1.900e+00, 0.000e+00],\n",
      "        [5.560e+02, 5.500e+01, 6.000e+00, 8.000e+00, 1.000e+01, 3.400e+01,\n",
      "         1.900e+00, 0.000e+00],\n",
      "        [5.590e+02, 5.500e+01, 9.000e+00, 8.000e+00, 9.000e+00, 3.000e+01,\n",
      "         0.000e+00, 0.000e+00],\n",
      "        [5.512e+03, 5.500e+01, 1.200e+01, 1.000e+01, 1.000e+01, 4.100e+01,\n",
      "         0.000e+00, 0.000e+00],\n",
      "        [5.518e+03, 5.500e+01, 1.800e+01, 7.000e+00, 1.300e+01, 3.800e+01,\n",
      "         0.000e+00, 0.000e+00],\n",
      "        [5.524e+03, 5.500e+01, 2.400e+01, 1.600e+01, 9.000e+00, 4.900e+01,\n",
      "         0.000e+00, 0.000e+00]], dtype=float32)\n",
      " array([[5.560e+02, 5.500e+01, 6.000e+00, 8.000e+00, 1.000e+01, 3.400e+01,\n",
      "         1.900e+00, 0.000e+00],\n",
      "        [5.590e+02, 5.500e+01, 9.000e+00, 8.000e+00, 9.000e+00, 3.000e+01,\n",
      "         0.000e+00, 0.000e+00],\n",
      "        [5.512e+03, 5.500e+01, 1.200e+01, 1.000e+01, 1.000e+01, 4.100e+01,\n",
      "         0.000e+00, 0.000e+00],\n",
      "        [5.518e+03, 5.500e+01, 1.800e+01, 7.000e+00, 1.300e+01, 3.800e+01,\n",
      "         0.000e+00, 0.000e+00],\n",
      "        [5.524e+03, 5.500e+01, 2.400e+01, 1.600e+01, 9.000e+00, 4.900e+01,\n",
      "         0.000e+00, 0.000e+00],\n",
      "        [5.530e+03, 5.500e+01, 3.000e+01, 1.400e+01, 1.300e+01, 4.900e+01,\n",
      "         0.000e+00, 0.000e+00]], dtype=float32)                           ] [array([[16.,  9., 49.,  0.],\n",
      "        [14., 13., 49.,  0.],\n",
      "        [17., 18., 51.,  0.],\n",
      "        [12., 20., 41.,  0.]], dtype=float32)\n",
      " array([[14., 13., 49.,  0.],\n",
      "        [17., 18., 51.,  0.],\n",
      "        [12., 20., 41.,  0.],\n",
      "        [17., 16., 52.,  0.]], dtype=float32)\n",
      " array([[17., 18., 51.,  0.],\n",
      "        [12., 20., 41.,  0.],\n",
      "        [17., 16., 52.,  0.],\n",
      "        [12., 18., 51.,  0.]], dtype=float32)]\n",
      "(5, 2)\n",
      "[array([[9.4200e+03, 9.4200e+02, 0.0000e+00, 3.0000e+00, 2.0000e+00,\n",
      "         2.0000e+01, 1.9000e+00, 0.0000e+00],\n",
      "        [9.4230e+03, 9.4200e+02, 3.0000e+00, 7.0000e+00, 2.0000e+00,\n",
      "         1.7000e+01, 1.9000e+00, 0.0000e+00],\n",
      "        [9.4260e+03, 9.4200e+02, 6.0000e+00, 8.0000e+00, 2.0000e+00,\n",
      "         2.1000e+01, 1.9000e+00, 0.0000e+00],\n",
      "        [9.4212e+04, 9.4200e+02, 1.2000e+01, 5.0000e+00, 2.0000e+00,\n",
      "         2.5000e+01, 0.0000e+00, 0.0000e+00],\n",
      "        [9.4218e+04, 9.4200e+02, 1.8000e+01, 6.0000e+00, 5.0000e+00,\n",
      "         1.8000e+01, 0.0000e+00, 0.0000e+00],\n",
      "        [9.4224e+04, 9.4200e+02, 2.4000e+01, 2.0000e+00, 3.0000e+00,\n",
      "         2.3000e+01, 1.9000e+00, 0.0000e+00]], dtype=float32)\n",
      " array([[9.4230e+03, 9.4200e+02, 3.0000e+00, 7.0000e+00, 2.0000e+00,\n",
      "         1.7000e+01, 1.9000e+00, 0.0000e+00],\n",
      "        [9.4260e+03, 9.4200e+02, 6.0000e+00, 8.0000e+00, 2.0000e+00,\n",
      "         2.1000e+01, 1.9000e+00, 0.0000e+00],\n",
      "        [9.4212e+04, 9.4200e+02, 1.2000e+01, 5.0000e+00, 2.0000e+00,\n",
      "         2.5000e+01, 0.0000e+00, 0.0000e+00],\n",
      "        [9.4218e+04, 9.4200e+02, 1.8000e+01, 6.0000e+00, 5.0000e+00,\n",
      "         1.8000e+01, 0.0000e+00, 0.0000e+00],\n",
      "        [9.4224e+04, 9.4200e+02, 2.4000e+01, 2.0000e+00, 3.0000e+00,\n",
      "         2.3000e+01, 1.9000e+00, 0.0000e+00],\n",
      "        [9.4230e+04, 9.4200e+02, 3.0000e+01, 4.0000e+00, 4.0000e+00,\n",
      "         1.9000e+01, 0.0000e+00, 0.0000e+00]], dtype=float32)\n",
      " array([[9.4260e+03, 9.4200e+02, 6.0000e+00, 8.0000e+00, 2.0000e+00,\n",
      "         2.1000e+01, 1.9000e+00, 0.0000e+00],\n",
      "        [9.4212e+04, 9.4200e+02, 1.2000e+01, 5.0000e+00, 2.0000e+00,\n",
      "         2.5000e+01, 0.0000e+00, 0.0000e+00],\n",
      "        [9.4218e+04, 9.4200e+02, 1.8000e+01, 6.0000e+00, 5.0000e+00,\n",
      "         1.8000e+01, 0.0000e+00, 0.0000e+00],\n",
      "        [9.4224e+04, 9.4200e+02, 2.4000e+01, 2.0000e+00, 3.0000e+00,\n",
      "         2.3000e+01, 1.9000e+00, 0.0000e+00],\n",
      "        [9.4230e+04, 9.4200e+02, 3.0000e+01, 4.0000e+00, 4.0000e+00,\n",
      "         1.9000e+01, 0.0000e+00, 0.0000e+00],\n",
      "        [9.4236e+04, 9.4200e+02, 3.6000e+01, 2.0000e+00, 4.0000e+00,\n",
      "         1.9000e+01, 0.0000e+00, 0.0000e+00]], dtype=float32)\n",
      " array([[9.4212e+04, 9.4200e+02, 1.2000e+01, 5.0000e+00, 2.0000e+00,\n",
      "         2.5000e+01, 0.0000e+00, 0.0000e+00],\n",
      "        [9.4218e+04, 9.4200e+02, 1.8000e+01, 6.0000e+00, 5.0000e+00,\n",
      "         1.8000e+01, 0.0000e+00, 0.0000e+00],\n",
      "        [9.4224e+04, 9.4200e+02, 2.4000e+01, 2.0000e+00, 3.0000e+00,\n",
      "         2.3000e+01, 1.9000e+00, 0.0000e+00],\n",
      "        [9.4230e+04, 9.4200e+02, 3.0000e+01, 4.0000e+00, 4.0000e+00,\n",
      "         1.9000e+01, 0.0000e+00, 0.0000e+00],\n",
      "        [9.4236e+04, 9.4200e+02, 3.6000e+01, 2.0000e+00, 4.0000e+00,\n",
      "         1.9000e+01, 0.0000e+00, 0.0000e+00],\n",
      "        [9.4242e+04, 9.4200e+02, 4.2000e+01, 2.0000e+00, 3.0000e+00,\n",
      "         3.2000e+01, 0.0000e+00, 0.0000e+00]], dtype=float32)\n",
      " array([[9.4218e+04, 9.4200e+02, 1.8000e+01, 6.0000e+00, 5.0000e+00,\n",
      "         1.8000e+01, 0.0000e+00, 0.0000e+00],\n",
      "        [9.4224e+04, 9.4200e+02, 2.4000e+01, 2.0000e+00, 3.0000e+00,\n",
      "         2.3000e+01, 1.9000e+00, 0.0000e+00],\n",
      "        [9.4230e+04, 9.4200e+02, 3.0000e+01, 4.0000e+00, 4.0000e+00,\n",
      "         1.9000e+01, 0.0000e+00, 0.0000e+00],\n",
      "        [9.4236e+04, 9.4200e+02, 3.6000e+01, 2.0000e+00, 4.0000e+00,\n",
      "         1.9000e+01, 0.0000e+00, 0.0000e+00],\n",
      "        [9.4242e+04, 9.4200e+02, 4.2000e+01, 2.0000e+00, 3.0000e+00,\n",
      "         3.2000e+01, 0.0000e+00, 0.0000e+00],\n",
      "        [9.4248e+04, 9.4200e+02, 4.8000e+01, 2.0000e+00, 6.0000e+00,\n",
      "         3.5000e+01, 0.0000e+00, 0.0000e+00]], dtype=float32)       ] [array([[ 4.,  4., 19.,  0.],\n",
      "        [ 2.,  4., 19.,  0.],\n",
      "        [ 2.,  3., 32.,  0.],\n",
      "        [ 2.,  6., 35.,  0.]], dtype=float32)\n",
      " array([[ 2.,  4., 19.,  0.],\n",
      "        [ 2.,  3., 32.,  0.],\n",
      "        [ 2.,  6., 35.,  0.],\n",
      "        [ 2.,  4., 26.,  0.]], dtype=float32)\n",
      " array([[ 2.,  3., 32.,  0.],\n",
      "        [ 2.,  6., 35.,  0.],\n",
      "        [ 2.,  4., 26.,  0.],\n",
      "        [ 2.,  5., 31.,  0.]], dtype=float32)\n",
      " array([[ 2.,  6., 35.,  0.],\n",
      "        [ 2.,  4., 26.,  0.],\n",
      "        [ 2.,  5., 31.,  0.],\n",
      "        [ 4.,  2., 33.,  0.]], dtype=float32)\n",
      " array([[ 2.,  4., 26.,  0.],\n",
      "        [ 2.,  5., 31.,  0.],\n",
      "        [ 4.,  2., 33.,  0.],\n",
      "        [ 4.,  8., 26.,  0.]], dtype=float32)]\n",
      "(0,)\n"
     ]
    },
    {
     "name": "stderr",
     "output_type": "stream",
     "text": [
      "/home/mariano/Desktop/parkinsonPrediction/src/utils.py:15: VisibleDeprecationWarning: Creating an ndarray from ragged nested sequences (which is a list-or-tuple of lists-or-tuples-or ndarrays with different lengths or shapes) is deprecated. If you meant to do this, you must specify 'dtype=object' when creating the ndarray.\n",
      "  windows = np.array(windows)\n"
     ]
    },
    {
     "ename": "IndexError",
     "evalue": "too many indices for array: array is 1-dimensional, but 2 were indexed",
     "output_type": "error",
     "traceback": [
      "\u001b[0;31m---------------------------------------------------------------------------\u001b[0m",
      "\u001b[0;31mIndexError\u001b[0m                                Traceback (most recent call last)",
      "\u001b[0;32m/tmp/ipykernel_8858/2483805790.py\u001b[0m in \u001b[0;36m<module>\u001b[0;34m\u001b[0m\n\u001b[1;32m      3\u001b[0m \u001b[0mdata\u001b[0m \u001b[0;34m=\u001b[0m \u001b[0mtransform_dataframe_to_numpy\u001b[0m\u001b[0;34m(\u001b[0m\u001b[0mdata\u001b[0m\u001b[0;34m)\u001b[0m\u001b[0;34m\u001b[0m\u001b[0;34m\u001b[0m\u001b[0m\n\u001b[1;32m      4\u001b[0m \u001b[0;31m#dataset = Dataset(data, window_size=10)\u001b[0m\u001b[0;34m\u001b[0m\u001b[0;34m\u001b[0m\u001b[0m\n\u001b[0;32m----> 5\u001b[0;31m \u001b[0mcreate_windows\u001b[0m\u001b[0;34m(\u001b[0m\u001b[0mdata\u001b[0m\u001b[0;34m,\u001b[0m \u001b[0;36m10\u001b[0m\u001b[0;34m,\u001b[0m \u001b[0;36m4\u001b[0m\u001b[0;34m)\u001b[0m\u001b[0;34m[\u001b[0m\u001b[0;36m0\u001b[0m\u001b[0;34m]\u001b[0m\u001b[0;34m\u001b[0m\u001b[0;34m\u001b[0m\u001b[0m\n\u001b[0m",
      "\u001b[0;32m~/Desktop/parkinsonPrediction/src/utils.py\u001b[0m in \u001b[0;36mcreate_windows\u001b[0;34m(data, window_size, prediction_time)\u001b[0m\n\u001b[1;32m     23\u001b[0m     \u001b[0;32mfor\u001b[0m \u001b[0mpatient\u001b[0m \u001b[0;32min\u001b[0m \u001b[0mpatients\u001b[0m\u001b[0;34m:\u001b[0m\u001b[0;34m\u001b[0m\u001b[0;34m\u001b[0m\u001b[0m\n\u001b[1;32m     24\u001b[0m         \u001b[0mpatient_data\u001b[0m \u001b[0;34m=\u001b[0m \u001b[0mdata\u001b[0m\u001b[0;34m[\u001b[0m\u001b[0mdata\u001b[0m\u001b[0;34m[\u001b[0m\u001b[0;34m:\u001b[0m\u001b[0;34m,\u001b[0m \u001b[0;36m1\u001b[0m\u001b[0;34m]\u001b[0m \u001b[0;34m==\u001b[0m \u001b[0mpatient\u001b[0m\u001b[0;34m]\u001b[0m\u001b[0;34m\u001b[0m\u001b[0;34m\u001b[0m\u001b[0m\n\u001b[0;32m---> 25\u001b[0;31m         \u001b[0mpatient_data\u001b[0m\u001b[0;34m,\u001b[0m \u001b[0mpatient_labels\u001b[0m \u001b[0;34m=\u001b[0m \u001b[0mcreate_windows_patient\u001b[0m\u001b[0;34m(\u001b[0m\u001b[0mpatient_data\u001b[0m\u001b[0;34m,\u001b[0m \u001b[0mwindow_size\u001b[0m\u001b[0;34m,\u001b[0m \u001b[0mprediction_time\u001b[0m\u001b[0;34m)\u001b[0m\u001b[0;34m\u001b[0m\u001b[0;34m\u001b[0m\u001b[0m\n\u001b[0m\u001b[1;32m     26\u001b[0m         \u001b[0mprint\u001b[0m\u001b[0;34m(\u001b[0m\u001b[0mpatient_data\u001b[0m\u001b[0;34m,\u001b[0m \u001b[0mpatient_labels\u001b[0m\u001b[0;34m)\u001b[0m\u001b[0;34m\u001b[0m\u001b[0;34m\u001b[0m\u001b[0m\n\u001b[1;32m     27\u001b[0m         \u001b[0mwindows\u001b[0m\u001b[0;34m.\u001b[0m\u001b[0mappend\u001b[0m\u001b[0;34m(\u001b[0m\u001b[0;34m[\u001b[0m\u001b[0mpatient_data\u001b[0m\u001b[0;34m,\u001b[0m \u001b[0mpatient_labels\u001b[0m\u001b[0;34m]\u001b[0m\u001b[0;34m)\u001b[0m\u001b[0;34m\u001b[0m\u001b[0;34m\u001b[0m\u001b[0m\n",
      "\u001b[0;32m~/Desktop/parkinsonPrediction/src/utils.py\u001b[0m in \u001b[0;36mcreate_windows_patient\u001b[0;34m(data, window_size, prediction_time)\u001b[0m\n\u001b[1;32m     15\u001b[0m     \u001b[0mwindows\u001b[0m \u001b[0;34m=\u001b[0m \u001b[0mnp\u001b[0m\u001b[0;34m.\u001b[0m\u001b[0marray\u001b[0m\u001b[0;34m(\u001b[0m\u001b[0mwindows\u001b[0m\u001b[0;34m)\u001b[0m\u001b[0;34m\u001b[0m\u001b[0;34m\u001b[0m\u001b[0m\n\u001b[1;32m     16\u001b[0m     \u001b[0mprint\u001b[0m\u001b[0;34m(\u001b[0m\u001b[0mwindows\u001b[0m\u001b[0;34m.\u001b[0m\u001b[0mshape\u001b[0m\u001b[0;34m)\u001b[0m\u001b[0;34m\u001b[0m\u001b[0;34m\u001b[0m\u001b[0m\n\u001b[0;32m---> 17\u001b[0;31m     \u001b[0;32mreturn\u001b[0m \u001b[0mwindows\u001b[0m\u001b[0;34m[\u001b[0m\u001b[0;34m:\u001b[0m\u001b[0;34m,\u001b[0m \u001b[0;36m0\u001b[0m\u001b[0;34m]\u001b[0m\u001b[0;34m,\u001b[0m \u001b[0mwindows\u001b[0m\u001b[0;34m[\u001b[0m\u001b[0;34m:\u001b[0m\u001b[0;34m,\u001b[0m\u001b[0;36m1\u001b[0m\u001b[0;34m]\u001b[0m\u001b[0;34m\u001b[0m\u001b[0;34m\u001b[0m\u001b[0m\n\u001b[0m\u001b[1;32m     18\u001b[0m \u001b[0;34m\u001b[0m\u001b[0m\n\u001b[1;32m     19\u001b[0m \u001b[0;32mdef\u001b[0m \u001b[0mcreate_windows\u001b[0m\u001b[0;34m(\u001b[0m\u001b[0mdata\u001b[0m\u001b[0;34m,\u001b[0m \u001b[0mwindow_size\u001b[0m\u001b[0;34m,\u001b[0m \u001b[0mprediction_time\u001b[0m\u001b[0;34m)\u001b[0m\u001b[0;34m:\u001b[0m\u001b[0;34m\u001b[0m\u001b[0;34m\u001b[0m\u001b[0m\n",
      "\u001b[0;31mIndexError\u001b[0m: too many indices for array: array is 1-dimensional, but 2 were indexed"
     ]
    }
   ],
   "source": [
    "# Get dataset \n",
    "data = read_clean_data('data/train_clinical_data.csv')\n",
    "data = transform_dataframe_to_numpy(data)\n",
    "#dataset = Dataset(data, window_size=10)\n",
    "create_windows(data, 10, 4)[0]\n"
   ]
  },
  {
   "cell_type": "code",
   "execution_count": 51,
   "metadata": {},
   "outputs": [
    {
     "data": {
      "text/plain": [
       "(torch.Size([1, 4]),\n",
       " tensor([[-0.2012, -0.0588,  0.0737, -0.0447]], grad_fn=<AddmmBackward0>))"
      ]
     },
     "execution_count": 51,
     "metadata": {},
     "output_type": "execute_result"
    }
   ],
   "source": [
    "# Create model \n",
    "model = LSTMmodel()\n",
    "\n",
    "# Predict \n",
    "sample = dataset[0][0]\n",
    "# Add batch dimension \n",
    "sample = sample.unsqueeze(0)\n",
    "out = model(sample)\n",
    "out.shape, out"
   ]
  },
  {
   "cell_type": "code",
   "execution_count": 3,
   "metadata": {},
   "outputs": [
    {
     "name": "stderr",
     "output_type": "stream",
     "text": [
      "/usr/lib/python3/dist-packages/pkg_resources/__init__.py:116: PkgResourcesDeprecationWarning: 1.16.0-unknown is an invalid version and will not be supported in a future release\n",
      "  warnings.warn(\n",
      "/usr/lib/python3/dist-packages/pkg_resources/__init__.py:116: PkgResourcesDeprecationWarning: 1.1build1 is an invalid version and will not be supported in a future release\n",
      "  warnings.warn(\n",
      "/usr/lib/python3/dist-packages/pkg_resources/__init__.py:116: PkgResourcesDeprecationWarning: 0.1.43ubuntu1 is an invalid version and will not be supported in a future release\n",
      "  warnings.warn(\n",
      "/usr/lib/python3/dist-packages/pkg_resources/__init__.py:116: PkgResourcesDeprecationWarning: 1.12.1-git20200711.33e2d80-dfsg1-0.6 is an invalid version and will not be supported in a future release\n",
      "  warnings.warn(\n",
      "GPU available: False, used: False\n",
      "TPU available: False, using: 0 TPU cores\n",
      "IPU available: False, using: 0 IPUs\n",
      "HPU available: False, using: 0 HPUs\n",
      "/home/mariano/.local/lib/python3.10/site-packages/pytorch_lightning/trainer/connectors/logger_connector/logger_connector.py:67: UserWarning: Starting from v1.9.0, `tensorboardX` has been removed as a dependency of the `pytorch_lightning` package, due to potential conflicts with other packages in the ML ecosystem. For this reason, `logger=True` will use `CSVLogger` as the default logger, unless the `tensorboard` or `tensorboardX` packages are found. Please `pip install lightning[extra]` or one of them to enable TensorBoard support by default\n",
      "  warning_cache.warn(\n"
     ]
    }
   ],
   "source": [
    "hparams = {\n",
    "    'epochs': 10,\n",
    "    'loss': 'mse',\n",
    "    'patience': 5,\n",
    "\t'optimizer': 'Adam',\n",
    "\t'optimizer_params': {\n",
    "\t\t'lr': 1e-2\n",
    "\t},}\n",
    "early_stopping = EarlyStopping(\n",
    "        monitor='val_loss',\n",
    "        patience=hparams['patience'],\n",
    "        verbose=False,\n",
    "        mode='min'\n",
    "    )\n",
    "model = LSTMmodel(hparams)\n",
    "dm = DataModule(32, 'data/train_clinical_data.csv')\n",
    "trainer = pl.Trainer(max_epochs=hparams['epochs'], callbacks=[early_stopping])\n",
    "\n",
    "# Train model\n",
    "trainer.fit(model, dm)"
   ]
  },
  {
   "cell_type": "code",
   "execution_count": 59,
   "metadata": {},
   "outputs": [
    {
     "data": {
      "text/plain": [
       "((521, 10, 7), (521, 4))"
      ]
     },
     "execution_count": 59,
     "metadata": {},
     "output_type": "execute_result"
    }
   ],
   "source": [
    "# Get test data from datamodule\n",
    "test_data, test_label = extract_test_data(dm)\n",
    "test_data.shape, test_label.shape"
   ]
  },
  {
   "cell_type": "code",
   "execution_count": 55,
   "metadata": {},
   "outputs": [
    {
     "data": {
      "text/plain": [
       "(521, 4)"
      ]
     },
     "execution_count": 55,
     "metadata": {},
     "output_type": "execute_result"
    }
   ],
   "source": [
    "pred_label = model.predict(test_data).numpy()\n",
    "pred_label.shape"
   ]
  },
  {
   "cell_type": "code",
   "execution_count": 57,
   "metadata": {},
   "outputs": [
    {
     "data": {
      "text/plain": [
       "199.43212270736694"
      ]
     },
     "execution_count": 57,
     "metadata": {},
     "output_type": "execute_result"
    }
   ],
   "source": [
    "# Smape error \n",
    "smape_metric(test_label, pred_label)"
   ]
  },
  {
   "cell_type": "code",
   "execution_count": null,
   "metadata": {},
   "outputs": [],
   "source": []
  }
 ],
 "metadata": {
  "kernelspec": {
   "display_name": "Python 3",
   "language": "python",
   "name": "python3"
  },
  "language_info": {
   "codemirror_mode": {
    "name": "ipython",
    "version": 3
   },
   "file_extension": ".py",
   "mimetype": "text/x-python",
   "name": "python",
   "nbconvert_exporter": "python",
   "pygments_lexer": "ipython3",
   "version": "3.10.6"
  },
  "orig_nbformat": 4
 },
 "nbformat": 4,
 "nbformat_minor": 2
}
